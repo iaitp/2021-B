{
 "cells": [
  {
   "cell_type": "code",
   "execution_count": 1,
   "id": "f0d11b88",
   "metadata": {},
   "outputs": [],
   "source": [
    "def construct_sklearn_dataset(dataset):\n",
    "\n",
    "    #Load a given dataset\n",
    "\n",
    "\n",
    "    X = dataset.data\n",
    "\n",
    "    try: #try and give string labels - if not use the numeric ones from sklearn\n",
    "        if dataset.target_names.shape[0] < 10:\n",
    "            Y = dataset.target_names[dataset.target]\n",
    "        else:\n",
    "            Y = dataset.target\n",
    "    except:\n",
    "        Y = dataset.target\n",
    "\n",
    "    #Put the data into a dataframe\n",
    "    data = pd.DataFrame()\n",
    "\n",
    "    for i in range(X.shape[1]):\n",
    "        data[dataset[\"feature_names\"][i]] = X[:,i]\n",
    "        #data[f\"X{i}\"] = X[:,i]\n",
    "    data[\"target\"]  = Y\n",
    "    \n",
    "    return data"
   ]
  },
  {
   "cell_type": "code",
   "execution_count": 2,
   "id": "4505df4a",
   "metadata": {},
   "outputs": [],
   "source": [
    "from sklearn import datasets\n",
    "import pandas as pd\n",
    "\n",
    "# Random Variables Initialised\n",
    "a = 5\n",
    "array = [1, 2, 3, 4]\n",
    "hey_alex = \"alex\"\n",
    "\n",
    "dataset = datasets.load_iris()\n",
    "data = construct_sklearn_dataset(dataset)"
   ]
  },
  {
   "cell_type": "code",
   "execution_count": 4,
   "id": "b8ea0a7f",
   "metadata": {},
   "outputs": [
    {
     "data": {
      "application/vnd.jupyter.widget-view+json": {
       "model_id": "50328ab980c44f21b143c9f5d40e2eda",
       "version_major": 2,
       "version_minor": 0
      },
      "text/plain": [
       "Dropdown(options=('data',), value='data')"
      ]
     },
     "metadata": {},
     "output_type": "display_data"
    },
    {
     "data": {
      "application/vnd.jupyter.widget-view+json": {
       "model_id": "62ad5e96b55f46e39016ca09c6f2b5c0",
       "version_major": 2,
       "version_minor": 0
      },
      "text/plain": [
       "Button(description='Create Analyser', style=ButtonStyle())"
      ]
     },
     "metadata": {},
     "output_type": "display_data"
    },
    {
     "data": {
      "application/vnd.jupyter.widget-view+json": {
       "model_id": "f74d2eee1e154b16b19f9b34181727a2",
       "version_major": 2,
       "version_minor": 0
      },
      "text/plain": [
       "Button(description='Classification', style=ButtonStyle())"
      ]
     },
     "metadata": {},
     "output_type": "display_data"
    },
    {
     "data": {
      "application/vnd.jupyter.widget-view+json": {
       "model_id": "24e48ef93e364073a334e4c51996a454",
       "version_major": 2,
       "version_minor": 0
      },
      "text/plain": [
       "Button(description='Regression', style=ButtonStyle())"
      ]
     },
     "metadata": {},
     "output_type": "display_data"
    },
    {
     "name": "stdout",
     "output_type": "stream",
     "text": [
      "analyser active\n"
     ]
    }
   ],
   "source": [
    "# Select a DataFrame to Compute the Data with:"
   ]
  }
 ],
 "metadata": {
  "kernelspec": {
   "display_name": "Python 3 (ipykernel)",
   "language": "python",
   "name": "python3"
  },
  "language_info": {
   "codemirror_mode": {
    "name": "ipython",
    "version": 3
   },
   "file_extension": ".py",
   "mimetype": "text/x-python",
   "name": "python",
   "nbconvert_exporter": "python",
   "pygments_lexer": "ipython3",
   "version": "3.9.7"
  },
  "varInspector": {
   "cols": {
    "lenName": 16,
    "lenType": 16,
    "lenVar": 40
   },
   "kernels_config": {
    "python": {
     "delete_cmd_postfix": "",
     "delete_cmd_prefix": "del ",
     "library": "var_list.py",
     "varRefreshCmd": "print(var_dic_list())"
    },
    "r": {
     "delete_cmd_postfix": ") ",
     "delete_cmd_prefix": "rm(",
     "library": "var_list.r",
     "varRefreshCmd": "cat(var_dic_list()) "
    }
   },
   "oldHeight": 155,
   "position": {
    "height": "155px",
    "left": "663px",
    "right": "20px",
    "top": "260px",
    "width": "220px"
   },
   "types_to_exclude": [
    "module",
    "function",
    "builtin_function_or_method",
    "instance",
    "_Feature"
   ],
   "varInspector_section_display": "block",
   "window_display": false
  }
 },
 "nbformat": 4,
 "nbformat_minor": 5
}
