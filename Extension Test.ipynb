{
 "cells": [
  {
   "cell_type": "code",
   "execution_count": 1,
   "id": "f0d11b88",
   "metadata": {},
   "outputs": [],
   "source": [
    "# Random Variables Initialised\n",
    "import pandas as pd\n",
    "a = 5\n",
    "array = [1, 2, 3, 4]\n",
    "hey_alex = \"alex\"\n",
    "\n",
    "data = {'product_name': ['laptop', 'printer', 'tablet', 'desk', 'chair'],\n",
    "        'price': [1200, 150, 300, 450, 200]\n",
    "        }\n",
    "\n",
    "df = pd.DataFrame(data)"
   ]
  },
  {
   "cell_type": "code",
   "execution_count": 2,
   "id": "db59bb67",
   "metadata": {
    "pycharm": {
     "name": "#%%\n"
    }
   },
   "outputs": [],
   "source": [
    "from sys import getsizeof\n",
    "from IPython import get_ipython\n",
    "from IPython.core.magics.namespace import NamespaceMagics\n",
    "import ipywidgets as widgets\n",
    "\n",
    "import pandas as pd\n",
    "\n",
    "_nms = NamespaceMagics()\n",
    "_Jupyter = get_ipython()\n",
    "_nms.shell = _Jupyter.kernel.shell\n",
    "\n",
    "values = _nms.who_ls()\n",
    "\n",
    "locals = []\n",
    "for v in values:\n",
    "    if type(eval(v)).__name__ == \"DataFrame\":\n",
    "        locals.append(v)\n",
    "\n",
    "\n",
    "\n",
    "widgets.Dropdown(\n",
    "    options=locals,\n",
    "    description='Number:',\n",
    "    disabled=False,\n",
    ")"
   ]
  }
 ],
 "metadata": {
  "kernelspec": {
   "display_name": "Python 3 (ipykernel)",
   "language": "python",
   "name": "python3"
  },
  "language_info": {
   "codemirror_mode": {
    "name": "ipython",
    "version": 3
   },
   "file_extension": ".py",
   "mimetype": "text/x-python",
   "name": "python",
   "nbconvert_exporter": "python",
   "pygments_lexer": "ipython3",
   "version": "3.8.8"
  },
  "varInspector": {
   "cols": {
    "lenName": 16,
    "lenType": 16,
    "lenVar": 40
   },
   "kernels_config": {
    "python": {
     "delete_cmd_postfix": "",
     "delete_cmd_prefix": "del ",
     "library": "var_list.py",
     "varRefreshCmd": "print(var_dic_list())"
    },
    "r": {
     "delete_cmd_postfix": ") ",
     "delete_cmd_prefix": "rm(",
     "library": "var_list.r",
     "varRefreshCmd": "cat(var_dic_list()) "
    }
   },
   "oldHeight": 155,
   "position": {
    "height": "155px",
    "left": "663px",
    "right": "20px",
    "top": "260px",
    "width": "220px"
   },
   "types_to_exclude": [
    "module",
    "function",
    "builtin_function_or_method",
    "instance",
    "_Feature"
   ],
   "varInspector_section_display": "block",
   "window_display": false
  }
 },
 "nbformat": 4,
 "nbformat_minor": 5
}