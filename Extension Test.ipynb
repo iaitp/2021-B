{
 "cells": [
  {
   "cell_type": "code",
   "execution_count": 1,
   "id": "f0d11b88",
   "metadata": {},
   "outputs": [],
   "source": [
    "# Using varInspector Code \n",
    "from sys import getsizeof\n",
    "from IPython import get_ipython\n",
    "from IPython.core.magics.namespace import NamespaceMagics\n",
    "\n",
    "_nms = NamespaceMagics()\n",
    "_Jupyter = get_ipython()\n",
    "_nms.shell = _Jupyter.kernel.shell"
   ]
  },
  {
   "cell_type": "code",
   "execution_count": 2,
   "id": "db59bb67",
   "metadata": {},
   "outputs": [],
   "source": [
    "# Random Variables Initialised\n",
    "a = 5\n",
    "array = [1, 2, 3, 4]"
   ]
  },
  {
   "cell_type": "code",
   "execution_count": 3,
   "id": "7a649606",
   "metadata": {},
   "outputs": [],
   "source": [
    "values = _nms.who_ls()"
   ]
  },
  {
   "cell_type": "code",
   "execution_count": 4,
   "id": "373a5bbc",
   "metadata": {},
   "outputs": [],
   "source": [
    "types_to_exclude = ['module', 'function', 'builtin_function_or_method',\n",
    "                        'instance', '_Feature', 'type', 'ufunc']"
   ]
  },
  {
   "cell_type": "code",
   "execution_count": 5,
   "id": "d97a297e",
   "metadata": {},
   "outputs": [],
   "source": [
    "locals = []\n",
    "for v in values:\n",
    "    if (v not in ['_html', '_nms', 'NamespaceMagics', '_Jupyter']) & (type(eval(v)).__name__ not in types_to_exclude):\n",
    "        locals.append(v)\n"
   ]
  },
  {
   "cell_type": "code",
   "execution_count": 6,
   "id": "b2b5e00c",
   "metadata": {},
   "outputs": [
    {
     "data": {
      "text/plain": [
       "['a', 'array']"
      ]
     },
     "execution_count": 6,
     "metadata": {},
     "output_type": "execute_result"
    }
   ],
   "source": [
    "locals"
   ]
  },
  {
   "cell_type": "code",
   "execution_count": 7,
   "id": "c50b0fb5",
   "metadata": {},
   "outputs": [],
   "source": [
    "random_var = locals[1]"
   ]
  },
  {
   "cell_type": "code",
   "execution_count": 10,
   "id": "2fb59529",
   "metadata": {},
   "outputs": [
    {
     "ename": "SyntaxError",
     "evalue": "invalid syntax (3214254426.py, line 1)",
     "output_type": "error",
     "traceback": [
      "\u001b[0;36m  File \u001b[0;32m\"/var/folders/x9/z8q_vccs0s9cd_6w43__ft0w0000gq/T/ipykernel_5577/3214254426.py\"\u001b[0;36m, line \u001b[0;32m1\u001b[0m\n\u001b[0;31m    eval(array)[]\u001b[0m\n\u001b[0m                ^\u001b[0m\n\u001b[0;31mSyntaxError\u001b[0m\u001b[0;31m:\u001b[0m invalid syntax\n"
     ]
    }
   ],
   "source": [
    "eval(array)[]"
   ]
  },
  {
   "cell_type": "code",
   "execution_count": null,
   "id": "4fe4371c",
   "metadata": {},
   "outputs": [],
   "source": []
  }
 ],
 "metadata": {
  "kernelspec": {
   "display_name": "Python 3 (ipykernel)",
   "language": "python",
   "name": "python3"
  },
  "language_info": {
   "codemirror_mode": {
    "name": "ipython",
    "version": 3
   },
   "file_extension": ".py",
   "mimetype": "text/x-python",
   "name": "python",
   "nbconvert_exporter": "python",
   "pygments_lexer": "ipython3",
   "version": "3.8.8"
  },
  "varInspector": {
   "cols": {
    "lenName": 16,
    "lenType": 16,
    "lenVar": 40
   },
   "kernels_config": {
    "python": {
     "delete_cmd_postfix": "",
     "delete_cmd_prefix": "del ",
     "library": "var_list.py",
     "varRefreshCmd": "print(var_dic_list())"
    },
    "r": {
     "delete_cmd_postfix": ") ",
     "delete_cmd_prefix": "rm(",
     "library": "var_list.r",
     "varRefreshCmd": "cat(var_dic_list()) "
    }
   },
   "oldHeight": 155,
   "position": {
    "height": "155px",
    "left": "663px",
    "right": "20px",
    "top": "260px",
    "width": "220px"
   },
   "types_to_exclude": [
    "module",
    "function",
    "builtin_function_or_method",
    "instance",
    "_Feature"
   ],
   "varInspector_section_display": "block",
   "window_display": false
  }
 },
 "nbformat": 4,
 "nbformat_minor": 5
}
