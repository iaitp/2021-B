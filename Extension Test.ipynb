{
 "cells": [
  {
   "cell_type": "code",
   "execution_count": 1,
   "id": "f0d11b88",
   "metadata": {},
   "outputs": [],
   "source": [
    "def construct_sklearn_dataset(dataset):\n",
    "\n",
    "    #Load a given dataset\n",
    "\n",
    "\n",
    "    X = dataset.data\n",
    "\n",
    "    try: #try and give string labels - if not use the numeric ones from sklearn\n",
    "        if dataset.target_names.shape[0] < 10:\n",
    "            Y = dataset.target_names[dataset.target]\n",
    "        else:\n",
    "            Y = dataset.target\n",
    "    except:\n",
    "        Y = dataset.target\n",
    "\n",
    "    #Put the data into a dataframe\n",
    "    data = pd.DataFrame()\n",
    "\n",
    "    for i in range(X.shape[1]):\n",
    "        data[dataset[\"feature_names\"][i]] = X[:,i]\n",
    "        #data[f\"X{i}\"] = X[:,i]\n",
    "    data[\"target\"]  = Y\n",
    "    \n",
    "    return data"
   ]
  },
  {
   "cell_type": "code",
   "execution_count": 2,
   "id": "4505df4a",
   "metadata": {},
   "outputs": [],
   "source": [
    "from sklearn import datasets\n",
    "import pandas as pd\n",
    "\n",
    "# Random Variables Initialised\n",
    "a = 5\n",
    "array = [1, 2, 3, 4]\n",
    "hey_alex = \"alex\"\n",
    "\n",
    "dataset = datasets.load_iris()\n",
    "data = construct_sklearn_dataset(dataset)\n",
    "\n",
    "dictionary = [['Alex', 23], ['Isabella', 21], ['Phillip', 36], ['Tony', 23]]\n",
    "df = pd.DataFrame(dictionary, columns = ['Name', 'Age'])"
   ]
  },
  {
   "cell_type": "code",
   "execution_count": null,
   "id": "fe696441",
   "metadata": {},
   "outputs": [],
   "source": []
  },
  {
   "cell_type": "code",
   "execution_count": 6,
   "id": "228ae18b",
   "metadata": {},
   "outputs": [
    {
     "data": {
      "application/vnd.jupyter.widget-view+json": {
       "model_id": "5c64613bd0e643d794a9b09557a535d4",
       "version_major": 2,
       "version_minor": 0
      },
      "text/plain": [
       "Dropdown(options=('data', 'df'), value='data')"
      ]
     },
     "metadata": {},
     "output_type": "display_data"
    },
    {
     "data": {
      "application/vnd.jupyter.widget-view+json": {
       "model_id": "99cd6fb26874476181a2c302e3cab10f",
       "version_major": 2,
       "version_minor": 0
      },
      "text/plain": [
       "Button(description='Create Analyser', style=ButtonStyle())"
      ]
     },
     "metadata": {},
     "output_type": "display_data"
    },
    {
     "data": {
      "application/vnd.jupyter.widget-view+json": {
       "model_id": "769793ee49264799aca4a72b5f7088e1",
       "version_major": 2,
       "version_minor": 0
      },
      "text/plain": [
       "Button(description='Classification', style=ButtonStyle())"
      ]
     },
     "metadata": {},
     "output_type": "display_data"
    },
    {
     "data": {
      "application/vnd.jupyter.widget-view+json": {
       "model_id": "0d532aeddf1e43e78005facd06767647",
       "version_major": 2,
       "version_minor": 0
      },
      "text/plain": [
       "Button(description='Regression', style=ButtonStyle())"
      ]
     },
     "metadata": {},
     "output_type": "display_data"
    },
    {
     "name": "stdout",
     "output_type": "stream",
     "text": [
      "analyser active\n",
      "Hello from the Classification button!\n",
      "Hello from the Regression button!\n",
      "analyser active\n"
     ]
    }
   ],
   "source": [
    "# Select a DataFrame to Compute the Data with:"
   ]
  },
  {
   "cell_type": "code",
   "execution_count": 12,
   "id": "755ff047",
   "metadata": {},
   "outputs": [
    {
     "name": "stderr",
     "output_type": "stream",
     "text": [
      "[Parallel(n_jobs=1)]: Using backend SequentialBackend with 1 concurrent workers.\n",
      "[Parallel(n_jobs=1)]: Done 250 out of 250 | elapsed:    0.1s finished\n"
     ]
    },
    {
     "data": {
      "application/vnd.jupyter.widget-view+json": {
       "model_id": "e8d55758fdd145689ed473b85df1cbe1",
       "version_major": 2,
       "version_minor": 0
      },
      "text/plain": [
       "Tab(children=(Output(),), _titles={'0': 'Compare Features'})"
      ]
     },
     "metadata": {},
     "output_type": "display_data"
    },
    {
     "data": {
      "text/plain": [
       "array(['petal length (cm)', 'petal width (cm)', 'sepal length (cm)',\n",
       "       'sepal width (cm)'], dtype='<U17')"
      ]
     },
     "execution_count": 12,
     "metadata": {},
     "output_type": "execute_result"
    }
   ],
   "source": [
    "analyse.feature_importances()\n",
    "                 "
   ]
  },
  {
   "cell_type": "code",
   "execution_count": null,
   "id": "8947da7d",
   "metadata": {},
   "outputs": [],
   "source": []
  }
 ],
 "metadata": {
  "kernelspec": {
   "display_name": "Python 3 (ipykernel)",
   "language": "python",
   "name": "python3"
  },
  "language_info": {
   "codemirror_mode": {
    "name": "ipython",
    "version": 3
   },
   "file_extension": ".py",
   "mimetype": "text/x-python",
   "name": "python",
   "nbconvert_exporter": "python",
   "pygments_lexer": "ipython3",
   "version": "3.9.7"
  },
  "varInspector": {
   "cols": {
    "lenName": 16,
    "lenType": 16,
    "lenVar": 40
   },
   "kernels_config": {
    "python": {
     "delete_cmd_postfix": "",
     "delete_cmd_prefix": "del ",
     "library": "var_list.py",
     "varRefreshCmd": "print(var_dic_list())"
    },
    "r": {
     "delete_cmd_postfix": ") ",
     "delete_cmd_prefix": "rm(",
     "library": "var_list.r",
     "varRefreshCmd": "cat(var_dic_list()) "
    }
   },
   "oldHeight": 155,
   "position": {
    "height": "155px",
    "left": "663px",
    "right": "20px",
    "top": "260px",
    "width": "220px"
   },
   "types_to_exclude": [
    "module",
    "function",
    "builtin_function_or_method",
    "instance",
    "_Feature"
   ],
   "varInspector_section_display": "block",
   "window_display": false
  }
 },
 "nbformat": 4,
 "nbformat_minor": 5
}
