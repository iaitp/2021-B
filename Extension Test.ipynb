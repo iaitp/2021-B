{
 "cells": [
  {
   "cell_type": "code",
   "execution_count": 1,
   "id": "c85912ca",
   "metadata": {},
   "outputs": [],
   "source": [
    "a = 5\n",
    "array = [1, 2, 3, 4]"
   ]
  },
  {
   "cell_type": "code",
   "execution_count": 2,
   "id": "492674ff",
   "metadata": {},
   "outputs": [],
   "source": [
    "global_vars = list(globals().keys())"
   ]
  },
  {
   "cell_type": "code",
   "execution_count": 4,
   "id": "8d4cf249",
   "metadata": {},
   "outputs": [],
   "source": [
    "# Removing dunder & other non-local variables\n",
    "# Will currently still have things like pd from 'import pandas as pd' etc though, unsure how to remove this\n",
    "local_vars = []\n",
    "for var in global_vars:\n",
    "    if var == 'In' or var == 'Out' or var == 'exit' or var == 'quit':\n",
    "        continue\n",
    "    if '_' not in var:\n",
    "        local_vars.append(var)\n"
   ]
  },
  {
   "cell_type": "code",
   "execution_count": 6,
   "id": "ccc1c93d",
   "metadata": {},
   "outputs": [
    {
     "name": "stdout",
     "output_type": "stream",
     "text": [
      "5\n",
      "[1, 2, 3, 4]\n"
     ]
    }
   ],
   "source": [
    "# Accessing Values of Local Variables\n",
    "for var in local_vars:\n",
    "    print(globals()[var])"
   ]
  },
  {
   "cell_type": "code",
   "execution_count": null,
   "id": "f0d11b88",
   "metadata": {},
   "outputs": [],
   "source": []
  }
 ],
 "metadata": {
  "kernelspec": {
   "display_name": "Python 3 (ipykernel)",
   "language": "python",
   "name": "python3"
  },
  "language_info": {
   "codemirror_mode": {
    "name": "ipython",
    "version": 3
   },
   "file_extension": ".py",
   "mimetype": "text/x-python",
   "name": "python",
   "nbconvert_exporter": "python",
   "pygments_lexer": "ipython3",
   "version": "3.8.8"
  },
  "varInspector": {
   "cols": {
    "lenName": 16,
    "lenType": 16,
    "lenVar": 40
   },
   "kernels_config": {
    "python": {
     "delete_cmd_postfix": "",
     "delete_cmd_prefix": "del ",
     "library": "var_list.py",
     "varRefreshCmd": "print(var_dic_list())"
    },
    "r": {
     "delete_cmd_postfix": ") ",
     "delete_cmd_prefix": "rm(",
     "library": "var_list.r",
     "varRefreshCmd": "cat(var_dic_list()) "
    }
   },
   "oldHeight": 155,
   "position": {
    "height": "155px",
    "left": "663px",
    "right": "20px",
    "top": "260px",
    "width": "220px"
   },
   "types_to_exclude": [
    "module",
    "function",
    "builtin_function_or_method",
    "instance",
    "_Feature"
   ],
   "varInspector_section_display": "block",
   "window_display": false
  }
 },
 "nbformat": 4,
 "nbformat_minor": 5
}
