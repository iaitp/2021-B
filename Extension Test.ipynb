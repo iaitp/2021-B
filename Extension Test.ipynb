{
 "cells": [
  {
   "cell_type": "code",
   "execution_count": 1,
   "id": "f0d11b88",
   "metadata": {},
   "outputs": [],
   "source": [
    "def construct_sklearn_dataset(dataset):\n",
    "\n",
    "    #Load a given dataset\n",
    "\n",
    "\n",
    "    X = dataset.data\n",
    "\n",
    "    try: #try and give string labels - if not use the numeric ones from sklearn\n",
    "        if dataset.target_names.shape[0] < 10:\n",
    "            Y = dataset.target_names[dataset.target]\n",
    "        else:\n",
    "            Y = dataset.target\n",
    "    except:\n",
    "        Y = dataset.target\n",
    "\n",
    "    #Put the data into a dataframe\n",
    "    data = pd.DataFrame()\n",
    "\n",
    "    for i in range(X.shape[1]):\n",
    "        data[dataset[\"feature_names\"][i]] = X[:,i]\n",
    "        #data[f\"X{i}\"] = X[:,i]\n",
    "    data[\"target\"]  = Y\n",
    "    \n",
    "    return data"
   ]
  },
  {
   "cell_type": "code",
   "execution_count": 2,
   "id": "4505df4a",
   "metadata": {},
   "outputs": [],
   "source": [
    "from sklearn import datasets\n",
    "import pandas as pd\n",
    "\n",
    "# Random Variables Initialised\n",
    "a = 5\n",
    "array = [1, 2, 3, 4]\n",
    "hey_alex = \"alex\"\n",
    "\n",
    "dataset = datasets.load_wine()\n",
    "data = construct_sklearn_dataset(dataset)\n",
    "\n",
    "dictionary = [['Alex', 23], ['Isabella', 21], ['Phillip', 36], ['Tony', 23]]\n",
    "df = pd.DataFrame(dictionary, columns = ['Name', 'Age'])"
   ]
  },
  {
   "cell_type": "code",
   "execution_count": 11,
   "id": "b51f4e71",
   "metadata": {},
   "outputs": [
    {
     "data": {
      "application/vnd.jupyter.widget-view+json": {
       "model_id": "47749cc97d1a4b2eb0409b5ae5fa684b",
       "version_major": 2,
       "version_minor": 0
      },
      "text/plain": [
       "Dropdown(options=('data', 'df'), value='data')"
      ]
     },
     "metadata": {},
     "output_type": "display_data"
    },
    {
     "data": {
      "application/vnd.jupyter.widget-view+json": {
       "model_id": "6ce7bcaecacd462a9e8a23685c1ed313",
       "version_major": 2,
       "version_minor": 0
      },
      "text/plain": [
       "Button(description='Analyse Data', style=ButtonStyle())"
      ]
     },
     "metadata": {},
     "output_type": "display_data"
    },
    {
     "data": {
      "application/vnd.jupyter.widget-view+json": {
       "model_id": "1d4237b094e3407fa0542e024e497fc2",
       "version_major": 2,
       "version_minor": 0
      },
      "text/plain": [
       "Tab(children=(VBox(children=(Output(), HBox(children=(Dropdown(description='x Feature', options=('alcohol', 'm…"
      ]
     },
     "metadata": {},
     "output_type": "display_data"
    },
    {
     "name": "stdout",
     "output_type": "stream",
     "text": [
      "HDBSCAN found 3 clusters, and 69 outliers, \n",
      "38.764044943820224% of data\n",
      "HDBSCAN found 3 clusters, and 76 outliers, \n",
      "42.69662921348314% of data\n",
      "HDBSCAN found 3 clusters, and 63 outliers, \n",
      "35.39325842696629% of data\n"
     ]
    }
   ],
   "source": [
    "# Select a DataFrame to analyse:"
   ]
  },
  {
   "cell_type": "code",
   "execution_count": 3,
   "id": "1b014a48",
   "metadata": {},
   "outputs": [],
   "source": [
    "# Select a DataFrame to analyse:"
   ]
  },
  {
   "cell_type": "code",
   "execution_count": 4,
   "id": "c26c9f19",
   "metadata": {},
   "outputs": [],
   "source": [
    "# Select a DataFrame to analyse:"
   ]
  },
  {
   "cell_type": "code",
   "execution_count": 5,
   "id": "92b19148",
   "metadata": {},
   "outputs": [],
   "source": [
    "# Select a DataFrame to analyse:"
   ]
  },
  {
   "cell_type": "code",
   "execution_count": 6,
   "id": "01b2ca14",
   "metadata": {},
   "outputs": [],
   "source": [
    "# Select a DataFrame to analyse:"
   ]
  },
  {
   "cell_type": "code",
   "execution_count": 7,
   "id": "7b779010",
   "metadata": {},
   "outputs": [],
   "source": [
    "# Select a DataFrame to analyse:"
   ]
  },
  {
   "cell_type": "code",
   "execution_count": 8,
   "id": "a8c8601d",
   "metadata": {},
   "outputs": [],
   "source": [
    "# Select a DataFrame to analyse:"
   ]
  },
  {
   "cell_type": "code",
   "execution_count": 9,
   "id": "5028f563",
   "metadata": {},
   "outputs": [],
   "source": [
    "# Select a DataFrame to analyse:"
   ]
  }
 ],
 "metadata": {
  "kernelspec": {
   "display_name": "Python 3 (ipykernel)",
   "language": "python",
   "name": "python3"
  },
  "language_info": {
   "codemirror_mode": {
    "name": "ipython",
    "version": 3
   },
   "file_extension": ".py",
   "mimetype": "text/x-python",
   "name": "python",
   "nbconvert_exporter": "python",
   "pygments_lexer": "ipython3",
   "version": "3.9.7"
  },
  "varInspector": {
   "cols": {
    "lenName": 16,
    "lenType": 16,
    "lenVar": 40
   },
   "kernels_config": {
    "python": {
     "delete_cmd_postfix": "",
     "delete_cmd_prefix": "del ",
     "library": "var_list.py",
     "varRefreshCmd": "print(var_dic_list())"
    },
    "r": {
     "delete_cmd_postfix": ") ",
     "delete_cmd_prefix": "rm(",
     "library": "var_list.r",
     "varRefreshCmd": "cat(var_dic_list()) "
    }
   },
   "oldHeight": 155,
   "position": {
    "height": "155px",
    "left": "663px",
    "right": "20px",
    "top": "260px",
    "width": "220px"
   },
   "types_to_exclude": [
    "module",
    "function",
    "builtin_function_or_method",
    "instance",
    "_Feature"
   ],
   "varInspector_section_display": "block",
   "window_display": false
  }
 },
 "nbformat": 4,
 "nbformat_minor": 5
}
