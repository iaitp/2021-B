{
 "cells": [
  {
   "cell_type": "code",
   "execution_count": 1,
   "id": "f0d11b88",
   "metadata": {},
   "outputs": [],
   "source": [
    "def construct_sklearn_dataset(dataset):\n",
    "\n",
    "    #Load a given dataset\n",
    "\n",
    "\n",
    "    X = dataset.data\n",
    "\n",
    "    try: #try and give string labels - if not use the numeric ones from sklearn\n",
    "        if dataset.target_names.shape[0] < 10:\n",
    "            Y = dataset.target_names[dataset.target]\n",
    "        else:\n",
    "            Y = dataset.target\n",
    "    except:\n",
    "        Y = dataset.target\n",
    "\n",
    "    #Put the data into a dataframe\n",
    "    data = pd.DataFrame()\n",
    "\n",
    "    for i in range(X.shape[1]):\n",
    "        data[dataset[\"feature_names\"][i]] = X[:,i]\n",
    "        #data[f\"X{i}\"] = X[:,i]\n",
    "    data[\"target\"]  = Y\n",
    "    \n",
    "    return data"
   ]
  },
  {
   "cell_type": "code",
   "execution_count": 2,
   "id": "4505df4a",
   "metadata": {
    "pycharm": {
     "name": "#%%\n"
    }
   },
   "outputs": [],
   "source": [
    "from sklearn import datasets\n",
    "import pandas as pd\n",
    "\n",
    "# Random Variables Initialised\n",
    "a = 5\n",
    "array = [1, 2, 3, 4]\n",
    "hey_alex = \"alex\"\n",
    "\n",
    "dataset = datasets.load_wine()\n",
    "data = construct_sklearn_dataset(dataset)\n",
    "\n",
    "dictionary = [['Alex', 23], ['Isabella', 21], ['Phillip', 36], ['Tony', 23]]\n",
    "df = pd.DataFrame(dictionary, columns = ['Name', 'Age'])"
   ]
  },
  {
   "cell_type": "code",
   "execution_count": 3,
   "id": "6f7d0eb0",
   "metadata": {},
   "outputs": [
    {
     "data": {
      "application/vnd.jupyter.widget-view+json": {
       "model_id": "e48a2cfeaef54af5b042ff86679355af",
       "version_major": 2,
       "version_minor": 0
      },
      "text/plain": [
       "Dropdown(description='Data:', options=('data', 'df'), value='data')"
      ]
     },
     "metadata": {},
     "output_type": "display_data"
    },
    {
     "data": {
      "application/vnd.jupyter.widget-view+json": {
       "model_id": "9a9d84287238485ea1d0a85d97f07bb3",
       "version_major": 2,
       "version_minor": 0
      },
      "text/plain": [
       "Button(description='Select Data', style=ButtonStyle())"
      ]
     },
     "metadata": {},
     "output_type": "display_data"
    },
    {
     "data": {
      "application/vnd.jupyter.widget-view+json": {
       "model_id": "a8c942d9bcef46feb59636a4ce65de7b",
       "version_major": 2,
       "version_minor": 0
      },
      "text/plain": [
       "Dropdown(description='Target:', options=('alcohol', 'malic_acid', 'ash', 'alcalinity_of_ash', 'magnesium', 'to…"
      ]
     },
     "metadata": {},
     "output_type": "display_data"
    },
    {
     "data": {
      "application/vnd.jupyter.widget-view+json": {
       "model_id": "2e4b62823aa54408a9162f0a8ac149fb",
       "version_major": 2,
       "version_minor": 0
      },
      "text/plain": [
       "Button(description='Analyse Data', style=ButtonStyle())"
      ]
     },
     "metadata": {},
     "output_type": "display_data"
    },
    {
     "data": {
      "application/vnd.jupyter.widget-view+json": {
       "model_id": "5a47e7cb47e844c1b13bb67a412a8dc8",
       "version_major": 2,
       "version_minor": 0
      },
      "text/plain": [
       "Tab(children=(VBox(children=(Output(), HBox(children=(Dropdown(description='x Feature', options=('malic_acid',…"
      ]
     },
     "metadata": {},
     "output_type": "display_data"
    },
    {
     "data": {
      "application/vnd.jupyter.widget-view+json": {
       "model_id": "caa4271a1e0643bfa18d29a7655cdb2e",
       "version_major": 2,
       "version_minor": 0
      },
      "text/plain": [
       "Tab(children=(VBox(children=(Output(), HBox(children=(Dropdown(description='x Feature', options=('malic_acid',…"
      ]
     },
     "metadata": {},
     "output_type": "display_data"
    }
   ],
   "source": [
    "# Select a DataFrame to analyse:"
   ]
  }
 ],
 "metadata": {
  "kernelspec": {
   "display_name": "Python 3 (ipykernel)",
   "language": "python",
   "name": "python3"
  },
  "language_info": {
   "codemirror_mode": {
    "name": "ipython",
    "version": 3
   },
   "file_extension": ".py",
   "mimetype": "text/x-python",
   "name": "python",
   "nbconvert_exporter": "python",
   "pygments_lexer": "ipython3",
   "version": "3.9.7"
  },
  "varInspector": {
   "cols": {
    "lenName": 16,
    "lenType": 16,
    "lenVar": 40
   },
   "kernels_config": {
    "python": {
     "delete_cmd_postfix": "",
     "delete_cmd_prefix": "del ",
     "library": "var_list.py",
     "varRefreshCmd": "print(var_dic_list())"
    },
    "r": {
     "delete_cmd_postfix": ") ",
     "delete_cmd_prefix": "rm(",
     "library": "var_list.r",
     "varRefreshCmd": "cat(var_dic_list()) "
    }
   },
   "oldHeight": 155,
   "position": {
    "height": "155px",
    "left": "663px",
    "right": "20px",
    "top": "260px",
    "width": "220px"
   },
   "types_to_exclude": [
    "module",
    "function",
    "builtin_function_or_method",
    "instance",
    "_Feature"
   ],
   "varInspector_section_display": "block",
   "window_display": false
  }
 },
 "nbformat": 4,
 "nbformat_minor": 5
}
