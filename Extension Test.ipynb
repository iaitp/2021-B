{
 "cells": [
  {
   "cell_type": "code",
   "execution_count": 1,
   "id": "f0d11b88",
   "metadata": {},
   "outputs": [],
   "source": [
    "def construct_sklearn_dataset(dataset):\n",
    "\n",
    "    #Load a given dataset\n",
    "\n",
    "\n",
    "    X = dataset.data\n",
    "\n",
    "    try: #try and give string labels - if not use the numeric ones from sklearn\n",
    "        if dataset.target_names.shape[0] < 10:\n",
    "            Y = dataset.target_names[dataset.target]\n",
    "        else:\n",
    "            Y = dataset.target\n",
    "    except:\n",
    "        Y = dataset.target\n",
    "\n",
    "    #Put the data into a dataframe\n",
    "    data = pd.DataFrame()\n",
    "\n",
    "    for i in range(X.shape[1]):\n",
    "        data[dataset[\"feature_names\"][i]] = X[:,i]\n",
    "        #data[f\"X{i}\"] = X[:,i]\n",
    "    data[\"target\"]  = Y\n",
    "    \n",
    "    return data"
   ]
  },
  {
   "cell_type": "code",
   "execution_count": 2,
   "id": "4505df4a",
   "metadata": {},
   "outputs": [],
   "source": [
    "from sklearn import datasets\n",
    "import pandas as pd\n",
    "\n",
    "# Random Variables Initialised\n",
    "a = 5\n",
    "array = [1, 2, 3, 4]\n",
    "hey_alex = \"alex\"\n",
    "\n",
    "dataset = datasets.load_iris()\n",
    "data = construct_sklearn_dataset(dataset)\n",
    "\n",
    "dictionary = [['Alex', 23], ['Isabella', 21], ['Phillip', 36], ['Tony', 23]]\n",
    "df = pd.DataFrame(dictionary, columns = ['Name', 'Age'])"
   ]
  },
  {
   "cell_type": "code",
   "execution_count": 6,
   "id": "780481c1",
   "metadata": {},
   "outputs": [
    {
     "data": {
      "application/vnd.jupyter.widget-view+json": {
       "model_id": "dd99a4a58c3e4619b9ab709a5f7aa08a",
       "version_major": 2,
       "version_minor": 0
      },
      "text/plain": [
       "Dropdown(description='Data:', options=('data', 'df'), value='data')"
      ]
     },
     "metadata": {},
     "output_type": "display_data"
    },
    {
     "data": {
      "application/vnd.jupyter.widget-view+json": {
       "model_id": "1f68beae33324dce87e21edafd7a0347",
       "version_major": 2,
       "version_minor": 0
      },
      "text/plain": [
       "Button(description='Select Data', style=ButtonStyle())"
      ]
     },
     "metadata": {},
     "output_type": "display_data"
    },
    {
     "data": {
      "application/vnd.jupyter.widget-view+json": {
       "model_id": "24d5501227c648dab3cd0a6f98693308",
       "version_major": 2,
       "version_minor": 0
      },
      "text/plain": [
       "Dropdown(description='Target:', options=('sepal length (cm)', 'sepal width (cm)', 'petal length (cm)', 'petal …"
      ]
     },
     "metadata": {},
     "output_type": "display_data"
    },
    {
     "data": {
      "application/vnd.jupyter.widget-view+json": {
       "model_id": "1050b5ee16224200975232482103eda4",
       "version_major": 2,
       "version_minor": 0
      },
      "text/plain": [
       "Button(description='Analyse Data', style=ButtonStyle())"
      ]
     },
     "metadata": {},
     "output_type": "display_data"
    },
    {
     "data": {
      "application/vnd.jupyter.widget-view+json": {
       "model_id": "cd10bd57de2943699f799d60ed240baf",
       "version_major": 2,
       "version_minor": 0
      },
      "text/plain": [
       "Tab(children=(VBox(children=(Output(), HBox(children=(Dropdown(description='x Feature', options=('sepal length…"
      ]
     },
     "metadata": {},
     "output_type": "display_data"
    }
   ],
   "source": [
    "# Select a DataFrame to analyse:"
   ]
  },
  {
   "cell_type": "code",
   "execution_count": 3,
   "id": "7c22d90b",
   "metadata": {},
   "outputs": [],
   "source": [
    "# Select a DataFrame to analyse:"
   ]
  },
  {
   "cell_type": "code",
   "execution_count": 4,
   "id": "8d37ae5d",
   "metadata": {},
   "outputs": [],
   "source": [
    "# Select a DataFrame to analyse:"
   ]
  },
  {
   "cell_type": "code",
   "execution_count": 5,
   "id": "10d351a3",
   "metadata": {},
   "outputs": [],
   "source": [
    "# Select a DataFrame to analyse:"
   ]
  }
 ],
 "metadata": {
  "kernelspec": {
   "display_name": "Python 3 (ipykernel)",
   "language": "python",
   "name": "python3"
  },
  "language_info": {
   "codemirror_mode": {
    "name": "ipython",
    "version": 3
   },
   "file_extension": ".py",
   "mimetype": "text/x-python",
   "name": "python",
   "nbconvert_exporter": "python",
   "pygments_lexer": "ipython3",
   "version": "3.8.12"
  },
  "varInspector": {
   "cols": {
    "lenName": 16,
    "lenType": 16,
    "lenVar": 40
   },
   "kernels_config": {
    "python": {
     "delete_cmd_postfix": "",
     "delete_cmd_prefix": "del ",
     "library": "var_list.py",
     "varRefreshCmd": "print(var_dic_list())"
    },
    "r": {
     "delete_cmd_postfix": ") ",
     "delete_cmd_prefix": "rm(",
     "library": "var_list.r",
     "varRefreshCmd": "cat(var_dic_list()) "
    }
   },
   "oldHeight": 155,
   "position": {
    "height": "155px",
    "left": "663px",
    "right": "20px",
    "top": "260px",
    "width": "220px"
   },
   "types_to_exclude": [
    "module",
    "function",
    "builtin_function_or_method",
    "instance",
    "_Feature"
   ],
   "varInspector_section_display": "block",
   "window_display": false
  }
 },
 "nbformat": 4,
 "nbformat_minor": 5
}
